{
 "cells": [
  {
   "cell_type": "code",
   "execution_count": 1,
   "metadata": {},
   "outputs": [],
   "source": [
    "import pandas as pd\n",
    "import matplotlib.pyplot as plt\n",
    "from scipy import stats\n",
    "from statsmodels.stats.multicomp import pairwise_tukeyhsd\n",
    "import datetime"
   ]
  },
  {
   "cell_type": "code",
   "execution_count": 2,
   "metadata": {},
   "outputs": [],
   "source": [
    "# reading in the data\n",
    "pos_tweet_data = pd.read_csv(\"../etl_data/filtered_pos_elon_tesla_stock_data.csv\", parse_dates=['date'])\n",
    "pos_tweet_data['date'] = pos_tweet_data[\"date\"].dt.date\n"
   ]
  },
  {
   "cell_type": "code",
   "execution_count": 3,
   "metadata": {},
   "outputs": [
    {
     "name": "stdout",
     "output_type": "stream",
     "text": [
      "         date  reply count sentiment type  sentiment score  change_percent  \\\n",
      "1  2015-01-30          434       positive         0.812976           -0.78   \n",
      "2  2015-03-30          970       positive         0.623893            3.01   \n",
      "3  2015-04-02          341       positive         0.960205            1.82   \n",
      "\n",
      "     volume  \n",
      "1   3006958  \n",
      "2  10089519  \n",
      "3   5010367  \n"
     ]
    }
   ],
   "source": [
    "\n",
    "# seperate the tesla tweet data by year\n",
    "# no rows in the commented out dataframes\n",
    "\n",
    "# year1 = pos_tweet_data[\n",
    "#     (pos_tweet_data[\"date\"] <= datetime.date(2011, 1, 1))\n",
    "#     & (pos_tweet_data[\"date\"] >= datetime.date(2010, 1, 1))\n",
    "# ]\n",
    "# year2 = pos_tweet_data[\n",
    "#     (pos_tweet_data[\"date\"] <= datetime.date(2012, 1, 1))\n",
    "#     & (pos_tweet_data[\"date\"] >= datetime.date(2011, 1, 1))\n",
    "# ]\n",
    "# year3 = pos_tweet_data\n",
    "#     (pos_tweet_data[\"date\"] <= datetime.date(2013, 1, 1))\n",
    "#     & (pos_tweet_data[\"date\"] >= datetime.date(2012, 1, 1))\n",
    "# ]\n",
    "year4 = pos_tweet_data[\n",
    "    (pos_tweet_data[\"date\"] <= datetime.date(2014, 1, 1))\n",
    "    & (pos_tweet_data[\"date\"] >= datetime.date(2013, 1, 1))\n",
    "]\n",
    "# year5 = pos_tweet_data[\n",
    "#     (pos_tweet_data[\"date\"] <= datetime.date(2015, 1, 1))\n",
    "#     & (pos_tweet_data[\"date\"] >= datetime.date(2014, 1, 1))\n",
    "# ]\n",
    "year6 = pos_tweet_data[\n",
    "    (pos_tweet_data[\"date\"] <= datetime.date(2016, 1, 1))\n",
    "    & (pos_tweet_data[\"date\"] >= datetime.date(2015, 1, 1))\n",
    "]\n",
    "year7 = pos_tweet_data[\n",
    "    (pos_tweet_data[\"date\"] <= datetime.date(2017, 1, 1))\n",
    "    & (pos_tweet_data[\"date\"] >= datetime.date(2016, 1, 1))\n",
    "]\n",
    "year8 = pos_tweet_data[\n",
    "    (pos_tweet_data[\"date\"] <= datetime.date(2018, 1, 1))\n",
    "    & (pos_tweet_data[\"date\"] >= datetime.date(2017, 1, 1))\n",
    "]\n",
    "year9 = pos_tweet_data[\n",
    "    (pos_tweet_data[\"date\"] <= datetime.date(2019, 1, 1))\n",
    "    & (pos_tweet_data[\"date\"] >= datetime.date(2018, 1, 1))\n",
    "]\n",
    "year10 = pos_tweet_data[\n",
    "    (pos_tweet_data[\"date\"] <= datetime.date(2020, 1, 1))\n",
    "    & (pos_tweet_data[\"date\"] >= datetime.date(2019, 1, 1))\n",
    "]\n",
    "year11 = pos_tweet_data[\n",
    "    (pos_tweet_data[\"date\"] <= datetime.date(2021, 1, 1))\n",
    "    & (pos_tweet_data[\"date\"] >= datetime.date(2020, 1, 1))\n",
    "]\n",
    "year12 = pos_tweet_data[\n",
    "    (pos_tweet_data[\"date\"] <= datetime.date(2022, 1, 1))\n",
    "    & (pos_tweet_data[\"date\"] >= datetime.date(2021, 1, 1))\n",
    "]\n",
    "year13 = pos_tweet_data[\n",
    "    (pos_tweet_data[\"date\"] <= datetime.date(2023, 1, 1))\n",
    "    & (pos_tweet_data[\"date\"] >= datetime.date(2022, 1, 1))\n",
    "]\n",
    "\n",
    "print(year6)"
   ]
  },
  {
   "cell_type": "code",
   "execution_count": 4,
   "metadata": {},
   "outputs": [
    {
     "name": "stdout",
     "output_type": "stream",
     "text": [
      "ANOVA Test results:\n",
      "F_onewayResult(statistic=0.8722545042550295, pvalue=0.5399621170644309)\n",
      "0.5399621170644309 \n",
      "\n"
     ]
    }
   ],
   "source": [
    "# performs the anova test on the yearly tesla stock change percent\n",
    "anova = stats.f_oneway(\n",
    "    year4[\"sentiment score\"],\n",
    "    year6[\"sentiment score\"],\n",
    "    year7[\"sentiment score\"],\n",
    "    year8[\"sentiment score\"],\n",
    "    year9[\"sentiment score\"],\n",
    "    year10[\"sentiment score\"],\n",
    "    year11[\"sentiment score\"],\n",
    "    year12[\"sentiment score\"],\n",
    "    year13[\"sentiment score\"],\n",
    ")\n",
    "\n",
    "# anova test results\n",
    "print(\"ANOVA Test results:\")\n",
    "print(anova)\n",
    "print(anova.pvalue, \"\\n\")\n"
   ]
  }
 ],
 "metadata": {
  "kernelspec": {
   "display_name": "Python 3",
   "language": "python",
   "name": "python3"
  },
  "language_info": {
   "codemirror_mode": {
    "name": "ipython",
    "version": 3
   },
   "file_extension": ".py",
   "mimetype": "text/x-python",
   "name": "python",
   "nbconvert_exporter": "python",
   "pygments_lexer": "ipython3",
   "version": "3.11.4"
  }
 },
 "nbformat": 4,
 "nbformat_minor": 2
}
