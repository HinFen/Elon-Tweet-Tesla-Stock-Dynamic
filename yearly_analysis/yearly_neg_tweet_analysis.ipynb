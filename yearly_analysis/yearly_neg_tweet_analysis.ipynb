{
 "cells": [
  {
   "cell_type": "code",
   "execution_count": 1,
   "metadata": {},
   "outputs": [],
   "source": [
    "import pandas as pd\n",
    "import matplotlib.pyplot as plt\n",
    "from scipy import stats\n",
    "from statsmodels.stats.multicomp import pairwise_tukeyhsd\n",
    "import datetime"
   ]
  },
  {
   "cell_type": "code",
   "execution_count": 2,
   "metadata": {},
   "outputs": [],
   "source": [
    "# reading in the data\n",
    "neg_tweet_data = pd.read_csv(\"../etl_data/filtered_neg_elon_tesla_stock_data.csv\", parse_dates=['date'])\n",
    "neg_tweet_data['date'] = neg_tweet_data[\"date\"].dt.date"
   ]
  },
  {
   "cell_type": "code",
   "execution_count": 3,
   "metadata": {},
   "outputs": [],
   "source": [
    "\n",
    "# seperate the tesla tweet data by year\n",
    "# no rows in the commented out dataframes\n",
    "\n",
    "# year1 = neg_tweet_data[\n",
    "#     (neg_tweet_data[\"date\"] <= datetime.date(2011, 1, 1))\n",
    "#     & (neg_tweet_data[\"date\"] >= datetime.date(2010, 1, 1))\n",
    "# ]\n",
    "# year2 = neg_tweet_data[\n",
    "#     (neg_tweet_data[\"date\"] <= datetime.date(2012, 1, 1))\n",
    "#     & (neg_tweet_data[\"date\"] >= datetime.date(2011, 1, 1))\n",
    "# ]\n",
    "# year3 = neg_tweet_data[\n",
    "#     (neg_tweet_data[\"date\"] <= datetime.date(2013, 1, 1))\n",
    "#     & (neg_tweet_data[\"date\"] >= datetime.date(2012, 1, 1))\n",
    "# ]\n",
    "year4 = neg_tweet_data[\n",
    "    (neg_tweet_data[\"date\"] <= datetime.date(2014, 1, 1))\n",
    "    & (neg_tweet_data[\"date\"] >= datetime.date(2013, 1, 1))\n",
    "]\n",
    "# year5 = neg_tweet_data[\n",
    "#     (neg_tweet_data[\"date\"] <= datetime.date(2015, 1, 1))\n",
    "#     & (neg_tweet_data[\"date\"] >= datetime.date(2014, 1, 1))\n",
    "# ]\n",
    "# year6 = neg_tweet_data[\n",
    "#     (neg_tweet_data[\"date\"] <= datetime.date(2016, 1, 1))\n",
    "#     & (neg_tweet_data[\"date\"] >= datetime.date(2015, 1, 1))\n",
    "# ]\n",
    "year7 = neg_tweet_data[\n",
    "    (neg_tweet_data[\"date\"] <= datetime.date(2017, 1, 1))\n",
    "    & (neg_tweet_data[\"date\"] >= datetime.date(2016, 1, 1))\n",
    "]\n",
    "year8 = neg_tweet_data[\n",
    "    (neg_tweet_data[\"date\"] <= datetime.date(2018, 1, 1))\n",
    "    & (neg_tweet_data[\"date\"] >= datetime.date(2017, 1, 1))\n",
    "]\n",
    "year9 = neg_tweet_data[\n",
    "    (neg_tweet_data[\"date\"] <= datetime.date(2019, 1, 1))\n",
    "    & (neg_tweet_data[\"date\"] >= datetime.date(2018, 1, 1))\n",
    "]\n",
    "year10 = neg_tweet_data[\n",
    "    (neg_tweet_data[\"date\"] <= datetime.date(2020, 1, 1))\n",
    "    & (neg_tweet_data[\"date\"] >= datetime.date(2019, 1, 1))\n",
    "]\n",
    "year11 = neg_tweet_data[\n",
    "    (neg_tweet_data[\"date\"] <= datetime.date(2021, 1, 1))\n",
    "    & (neg_tweet_data[\"date\"] >= datetime.date(2020, 1, 1))\n",
    "]\n",
    "year12 = neg_tweet_data[\n",
    "    (neg_tweet_data[\"date\"] <= datetime.date(2022, 1, 1))\n",
    "    & (neg_tweet_data[\"date\"] >= datetime.date(2021, 1, 1))\n",
    "]\n",
    "year13 = neg_tweet_data[\n",
    "    (neg_tweet_data[\"date\"] <= datetime.date(2023, 1, 1))\n",
    "    & (neg_tweet_data[\"date\"] >= datetime.date(2022, 1, 1))\n",
    "]"
   ]
  },
  {
   "cell_type": "code",
   "execution_count": 4,
   "metadata": {},
   "outputs": [
    {
     "name": "stdout",
     "output_type": "stream",
     "text": [
      "ANOVA Test results:\n",
      "F_onewayResult(statistic=1.7835957211868287, pvalue=0.10006135267621083)\n",
      "0.10006135267621083 \n",
      "\n"
     ]
    }
   ],
   "source": [
    "# performs the anova test on the yearly tesla stock change percent\n",
    "anova = stats.f_oneway(\n",
    "    year4[\"sentiment score\"],\n",
    "    year7[\"sentiment score\"],\n",
    "    year8[\"sentiment score\"],\n",
    "    year9[\"sentiment score\"],\n",
    "    year10[\"sentiment score\"],\n",
    "    year11[\"sentiment score\"],\n",
    "    year12[\"sentiment score\"],\n",
    "    year13[\"sentiment score\"],\n",
    ")\n",
    "\n",
    "# anova test results\n",
    "print(\"ANOVA Test results:\")\n",
    "print(anova)\n",
    "print(anova.pvalue, \"\\n\")"
   ]
  }
 ],
 "metadata": {
  "kernelspec": {
   "display_name": "Python 3",
   "language": "python",
   "name": "python3"
  },
  "language_info": {
   "codemirror_mode": {
    "name": "ipython",
    "version": 3
   },
   "file_extension": ".py",
   "mimetype": "text/x-python",
   "name": "python",
   "nbconvert_exporter": "python",
   "pygments_lexer": "ipython3",
   "version": "3.11.4"
  }
 },
 "nbformat": 4,
 "nbformat_minor": 2
}
