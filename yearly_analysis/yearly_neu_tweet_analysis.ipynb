{
 "cells": [
  {
   "cell_type": "code",
   "execution_count": 5,
   "metadata": {},
   "outputs": [],
   "source": [
    "import pandas as pd\n",
    "import matplotlib.pyplot as plt\n",
    "from scipy import stats\n",
    "from statsmodels.stats.multicomp import pairwise_tukeyhsd\n",
    "import datetime"
   ]
  },
  {
   "cell_type": "code",
   "execution_count": 6,
   "metadata": {},
   "outputs": [],
   "source": [
    "# reading in the data\n",
    "neu_tweet_data = pd.read_csv(\"../etl_data/filtered_neu_elon_tesla_stock_data.csv\", parse_dates=['date'])\n",
    "neu_tweet_data['date'] = neu_tweet_data[\"date\"].dt.date"
   ]
  },
  {
   "cell_type": "code",
   "execution_count": 7,
   "metadata": {},
   "outputs": [],
   "source": [
    "# seperate the tesla tweet data by year\n",
    "# no rows in the commented out dataframes\n",
    "\n",
    "# year1 = neu_tweet_data[\n",
    "#     (neu_tweet_data[\"date\"] <= datetime.date(2011, 1, 1))\n",
    "#     & (neu_tweet_data[\"date\"] >= datetime.date(2010, 1, 1))\n",
    "# ]\n",
    "# year2 = neu_tweet_data[\n",
    "#     (neu_tweet_data[\"date\"] <= datetime.date(2012, 1, 1))\n",
    "#     & (neu_tweet_data[\"date\"] >= datetime.date(2011, 1, 1))\n",
    "# ]\n",
    "# year3 = neu_tweet_data[\n",
    "#     (neu_tweet_data[\"date\"] <= datetime.date(2013, 1, 1))\n",
    "#     & (neu_tweet_data[\"date\"] >= datetime.date(2012, 1, 1))\n",
    "# ]\n",
    "# year4 = neu_tweet_data[\n",
    "#     (neu_tweet_data[\"date\"] <= datetime.date(2014, 1, 1))\n",
    "#     & (neu_tweet_data[\"date\"] >= datetime.date(2013, 1, 1))\n",
    "# ]\n",
    "year5 = neu_tweet_data[\n",
    "    (neu_tweet_data[\"date\"] <= datetime.date(2015, 1, 1))\n",
    "    & (neu_tweet_data[\"date\"] >= datetime.date(2014, 1, 1))\n",
    "]\n",
    "year6 = neu_tweet_data[\n",
    "    (neu_tweet_data[\"date\"] <= datetime.date(2016, 1, 1))\n",
    "    & (neu_tweet_data[\"date\"] >= datetime.date(2015, 1, 1))\n",
    "]\n",
    "year7 = neu_tweet_data[\n",
    "    (neu_tweet_data[\"date\"] <= datetime.date(2017, 1, 1))\n",
    "    & (neu_tweet_data[\"date\"] >= datetime.date(2016, 1, 1))\n",
    "]\n",
    "year8 = neu_tweet_data[\n",
    "    (neu_tweet_data[\"date\"] <= datetime.date(2018, 1, 1))\n",
    "    & (neu_tweet_data[\"date\"] >= datetime.date(2017, 1, 1))\n",
    "]\n",
    "year9 = neu_tweet_data[\n",
    "    (neu_tweet_data[\"date\"] <= datetime.date(2019, 1, 1))\n",
    "    & (neu_tweet_data[\"date\"] >= datetime.date(2018, 1, 1))\n",
    "]\n",
    "year10 = neu_tweet_data[\n",
    "    (neu_tweet_data[\"date\"] <= datetime.date(2020, 1, 1))\n",
    "    & (neu_tweet_data[\"date\"] >= datetime.date(2019, 1, 1))\n",
    "]\n",
    "year11 = neu_tweet_data[\n",
    "    (neu_tweet_data[\"date\"] <= datetime.date(2021, 1, 1))\n",
    "    & (neu_tweet_data[\"date\"] >= datetime.date(2020, 1, 1))\n",
    "]\n",
    "year12 = neu_tweet_data[\n",
    "    (neu_tweet_data[\"date\"] <= datetime.date(2022, 1, 1))\n",
    "    & (neu_tweet_data[\"date\"] >= datetime.date(2021, 1, 1))\n",
    "]\n",
    "year13 = neu_tweet_data[\n",
    "    (neu_tweet_data[\"date\"] <= datetime.date(2023, 1, 1))\n",
    "    & (neu_tweet_data[\"date\"] >= datetime.date(2022, 1, 1))\n",
    "]"
   ]
  },
  {
   "cell_type": "code",
   "execution_count": 8,
   "metadata": {},
   "outputs": [
    {
     "name": "stdout",
     "output_type": "stream",
     "text": [
      "ANOVA Test results:\n",
      "F_onewayResult(statistic=0.893192179647973, pvalue=0.5118101291089174)\n",
      "0.5118101291089174 \n",
      "\n"
     ]
    }
   ],
   "source": [
    "# performs the anova test on the yearly tesla stock change percent\n",
    "anova = stats.f_oneway(\n",
    "    year6[\"sentiment score\"],\n",
    "    year7[\"sentiment score\"],\n",
    "    year8[\"sentiment score\"],\n",
    "    year9[\"sentiment score\"],\n",
    "    year10[\"sentiment score\"],\n",
    "    year11[\"sentiment score\"],\n",
    "    year12[\"sentiment score\"],\n",
    "    year13[\"sentiment score\"],\n",
    ")\n",
    "\n",
    "# anova test results\n",
    "print(\"ANOVA Test results:\")\n",
    "print(anova)\n",
    "print(anova.pvalue, \"\\n\")"
   ]
  }
 ],
 "metadata": {
  "kernelspec": {
   "display_name": "Python 3",
   "language": "python",
   "name": "python3"
  },
  "language_info": {
   "codemirror_mode": {
    "name": "ipython",
    "version": 3
   },
   "file_extension": ".py",
   "mimetype": "text/x-python",
   "name": "python",
   "nbconvert_exporter": "python",
   "pygments_lexer": "ipython3",
   "version": "3.11.4"
  }
 },
 "nbformat": 4,
 "nbformat_minor": 2
}
