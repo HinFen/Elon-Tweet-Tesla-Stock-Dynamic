{
 "cells": [
  {
   "cell_type": "code",
   "execution_count": 1,
   "metadata": {},
   "outputs": [],
   "source": [
    "import pandas as pd\n",
    "from sklearn.model_selection import train_test_split\n",
    "from sklearn.ensemble import RandomForestRegressor\n",
    "from sklearn.neighbors import KNeighborsRegressor\n",
    "from sklearn.ensemble import VotingRegressor\n",
    "from sklearn.preprocessing import StandardScaler\n",
    "from sklearn.pipeline import make_pipeline\n",
    "from sklearn.ensemble import GradientBoostingRegressor"
   ]
  },
  {
   "cell_type": "code",
   "execution_count": 2,
   "metadata": {},
   "outputs": [],
   "source": [
    "# read dataframe\n",
    "elon_tesla_data = pd.read_csv(\"../etl_data/filtered_elon_tesla_stock_data.csv\")\n",
    "\n",
    "# convert sentiment types to a number -1 for negative, 0 for neutral and 1 for positive\n",
    "# this is to represent the sentiment types as ordinal values instead \n",
    "# as there is a clear order between the sentiment types\n",
    "def get_ordinal_sentiment_type(sentiment_type):\n",
    "    if (sentiment_type == \"neutral\"):\n",
    "        return 0\n",
    "    elif (sentiment_type == \"negative\"):\n",
    "        return -1\n",
    "    else:\n",
    "        return 1\n",
    "    \n",
    "elon_tesla_data['sentiment type'] = elon_tesla_data['sentiment type'].apply(get_ordinal_sentiment_type)"
   ]
  },
  {
   "cell_type": "code",
   "execution_count": 3,
   "metadata": {},
   "outputs": [],
   "source": [
    "\n",
    "# create the x and y for the model\n",
    "X = elon_tesla_data[['reply count', 'sentiment type', 'sentiment score']]\n",
    "y = elon_tesla_data['change_percent']\n",
    "# split the data\n",
    "X_train, X_valid, y_train, y_valid = train_test_split(X, y)"
   ]
  },
  {
   "cell_type": "code",
   "execution_count": 4,
   "metadata": {},
   "outputs": [
    {
     "name": "stdout",
     "output_type": "stream",
     "text": [
      "Training score:  0.0793172306819857\n",
      "Validation score:  -0.019627985412903337\n"
     ]
    }
   ],
   "source": [
    "# create a model using the random forest regressor\n",
    "model = make_pipeline(\n",
    "    StandardScaler(),\n",
    "    RandomForestRegressor(200, max_depth=5, min_samples_leaf=20)\n",
    ")\n",
    "\n",
    "model.fit(X_train, y_train)\n",
    "\n",
    "print(\"Training score: \", model.score(X_train, y_train))\n",
    "print(\"Validation score: \", model.score(X_valid, y_valid))"
   ]
  },
  {
   "cell_type": "code",
   "execution_count": 5,
   "metadata": {},
   "outputs": [
    {
     "name": "stdout",
     "output_type": "stream",
     "text": [
      "Training score:  0.032523928811462155\n",
      "Validation score:  -0.04098961123446143\n"
     ]
    }
   ],
   "source": [
    "# creating a regression model using KNeighbors\n",
    "model = make_pipeline(\n",
    "    StandardScaler(),\n",
    "    KNeighborsRegressor(25)\n",
    ")\n",
    "model.fit(X_train, y_train)\n",
    "\n",
    "# test the score\n",
    "print(\"Training score: \", model.score(X_train, y_train))\n",
    "print(\"Validation score: \", model.score(X_valid, y_valid))\n"
   ]
  },
  {
   "cell_type": "code",
   "execution_count": 6,
   "metadata": {},
   "outputs": [
    {
     "name": "stdout",
     "output_type": "stream",
     "text": [
      "Training score:  0.16593253676713993\n",
      "Validation score:  -0.008808858477606929\n"
     ]
    }
   ],
   "source": [
    "# creating a regression model using a voting regressor\n",
    "model = make_pipeline(\n",
    "    StandardScaler(),\n",
    "    VotingRegressor(estimators=[\n",
    "            ('Kn', KNeighborsRegressor(50)), \n",
    "            ('Rf', RandomForestRegressor(100, max_depth=5, min_samples_leaf=20)),\n",
    "            ('Gr', GradientBoostingRegressor(random_state=1))\n",
    "            ])\n",
    ")\n",
    "\n",
    "model.fit(X_train, y_train)\n",
    "\n",
    "# test the score\n",
    "print(\"Training score: \", model.score(X_train, y_train))\n",
    "print(\"Validation score: \", model.score(X_valid, y_valid))"
   ]
  }
 ],
 "metadata": {
  "kernelspec": {
   "display_name": "Python 3",
   "language": "python",
   "name": "python3"
  },
  "language_info": {
   "codemirror_mode": {
    "name": "ipython",
    "version": 3
   },
   "file_extension": ".py",
   "mimetype": "text/x-python",
   "name": "python",
   "nbconvert_exporter": "python",
   "pygments_lexer": "ipython3",
   "version": "3.11.4"
  }
 },
 "nbformat": 4,
 "nbformat_minor": 2
}
